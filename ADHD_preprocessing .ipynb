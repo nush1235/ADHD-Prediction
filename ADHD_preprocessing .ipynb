{
  "nbformat": 4,
  "nbformat_minor": 0,
  "metadata": {
    "colab": {
      "provenance": []
    },
    "kernelspec": {
      "name": "python3",
      "display_name": "Python 3"
    },
    "language_info": {
      "name": "python"
    }
  },
  "cells": [
    {
      "cell_type": "markdown",
      "source": [
        "# Importing Required Libraries\n",
        " This section imports all the necessary Python libraries for data processing, machine learning, statistical analysis, and visualization."
      ],
      "metadata": {
        "id": "9hrmDJ59V0IW"
      }
    },
    {
      "cell_type": "code",
      "execution_count": 1,
      "metadata": {
        "id": "Fe32LwlPp2-B"
      },
      "outputs": [],
      "source": [
        "import pandas as pd\n",
        "import numpy as np\n",
        "from sklearn.impute import SimpleImputer\n",
        "from sklearn.model_selection import train_test_split\n",
        "import matplotlib.pyplot as plt\n",
        "import seaborn as sns\n",
        "from sklearn.preprocessing import StandardScaler, LabelEncoder\n",
        "from sklearn.decomposition import PCA\n",
        "from sklearn.feature_selection import VarianceThreshold\n",
        "from scipy.stats import chi2_contingency\n",
        "from scipy.stats import pearsonr\n",
        "from scipy.stats import f_oneway\n",
        "from sklearn.preprocessing import StandardScaler, OneHotEncoder\n",
        "from sklearn.pipeline import Pipeline\n",
        "from sklearn.compose import ColumnTransformer\n",
        "from sklearn.feature_selection import VarianceThreshold, SelectKBest, chi2\n",
        "\n"
      ]
    },
    {
      "cell_type": "markdown",
      "source": [
        "# Loading Data\n",
        "This section reads the dataset files into DataFrames.\n",
        "\n",
        "Funcmatrices: A CSV file containing functional connectome data.\n",
        "\n",
        "Labelsdf, metaA, metaB: Excel files containing labels and metadata for participants."
      ],
      "metadata": {
        "id": "zlA6_ZCbV9OE"
      }
    },
    {
      "cell_type": "code",
      "source": [
        "# Since the functional_connectome_matrices is a csv file , we use pd.read_csv\n",
        "Funcmatrices = pd.read_csv('FUNCTIONAL_CONNECTOME_MATRICES.csv')\n",
        "#Since the LABELS , METADATA_A , METADATA_B is a xlsx file we use pd.read_excel\n",
        "Labelsdf = pd.read_excel('LABELS.xlsx')\n",
        "metaA = pd.read_excel('METADATA_A.xlsx')\n",
        "metaB = pd.read_excel('METADATA_B.xlsx')"
      ],
      "metadata": {
        "id": "6vF8VZe6p9Jn"
      },
      "execution_count": 2,
      "outputs": []
    },
    {
      "cell_type": "markdown",
      "source": [
        "# Inspecting Data Shapes\n",
        "* Prints the shape (number of rows and columns) of each dataset ription:to give an overview of the data structure."
      ],
      "metadata": {
        "id": "V4qh31YnWD6C"
      }
    },
    {
      "cell_type": "code",
      "source": [
        "Funcmatrices.shape"
      ],
      "metadata": {
        "colab": {
          "base_uri": "https://localhost:8080/"
        },
        "id": "-8z1ha9MzaH0",
        "outputId": "c7940f1a-ce8d-4a99-f399-ed0f8e68364a"
      },
      "execution_count": 3,
      "outputs": [
        {
          "output_type": "execute_result",
          "data": {
            "text/plain": [
              "(95, 19901)"
            ]
          },
          "metadata": {},
          "execution_count": 3
        }
      ]
    },
    {
      "cell_type": "code",
      "source": [
        "metaA.shape\n"
      ],
      "metadata": {
        "colab": {
          "base_uri": "https://localhost:8080/"
        },
        "id": "ptd31Hn3z2Cj",
        "outputId": "24ecb071-0e87-4586-c17b-27fdc44186ce"
      },
      "execution_count": 4,
      "outputs": [
        {
          "output_type": "execute_result",
          "data": {
            "text/plain": [
              "(1213, 19)"
            ]
          },
          "metadata": {},
          "execution_count": 4
        }
      ]
    },
    {
      "cell_type": "code",
      "source": [
        "metaB.shape\n"
      ],
      "metadata": {
        "colab": {
          "base_uri": "https://localhost:8080/"
        },
        "id": "jHCPxqDGz4GE",
        "outputId": "e2c56cbf-9863-430a-bb8a-90531efd596f"
      },
      "execution_count": 5,
      "outputs": [
        {
          "output_type": "execute_result",
          "data": {
            "text/plain": [
              "(1213, 10)"
            ]
          },
          "metadata": {},
          "execution_count": 5
        }
      ]
    },
    {
      "cell_type": "code",
      "source": [
        "Labelsdf.shape"
      ],
      "metadata": {
        "colab": {
          "base_uri": "https://localhost:8080/"
        },
        "id": "zp7tdwH3z6Nt",
        "outputId": "51595aaa-4cd5-45ee-bc0a-fc6a2c1b82b3"
      },
      "execution_count": 6,
      "outputs": [
        {
          "output_type": "execute_result",
          "data": {
            "text/plain": [
              "(1213, 3)"
            ]
          },
          "metadata": {},
          "execution_count": 6
        }
      ]
    },
    {
      "cell_type": "markdown",
      "source": [
        "# Checking for Missing Values\n",
        "* This section checks for missing values in the data and prints the number of missing values for each dataset and column.\n",
        "* Ensures that any missing values are identified before handling them."
      ],
      "metadata": {
        "id": "CtPvoAjAWLOx"
      }
    },
    {
      "cell_type": "code",
      "source": [
        "print(metaA.isnull().sum().sum())\n",
        "print(Funcmatrices.isnull().sum().sum())\n",
        "print(metaB.isnull().sum().sum())"
      ],
      "metadata": {
        "colab": {
          "base_uri": "https://localhost:8080/"
        },
        "id": "tRQgCFuOvDgL",
        "outputId": "a607e554-c091-4274-cbae-d2f148f4e3b4"
      },
      "execution_count": 31,
      "outputs": [
        {
          "output_type": "stream",
          "name": "stdout",
          "text": [
            "0\n",
            "0\n",
            "0\n"
          ]
        }
      ]
    },
    {
      "cell_type": "code",
      "source": [
        "print(Funcmatrices.isnull().sum())\n"
      ],
      "metadata": {
        "colab": {
          "base_uri": "https://localhost:8080/"
        },
        "id": "4-ZQOTMHvvEu",
        "outputId": "b364818f-43f7-4a44-e360-df8a74dda220"
      },
      "execution_count": 32,
      "outputs": [
        {
          "output_type": "stream",
          "name": "stdout",
          "text": [
            "participant_id          0\n",
            "0throw_1thcolumn        0\n",
            "0throw_2thcolumn        0\n",
            "0throw_3thcolumn        0\n",
            "0throw_4thcolumn        0\n",
            "                       ..\n",
            "196throw_198thcolumn    0\n",
            "196throw_199thcolumn    0\n",
            "197throw_198thcolumn    0\n",
            "197throw_199thcolumn    0\n",
            "198throw_199thcolumn    0\n",
            "Length: 19901, dtype: int64\n"
          ]
        }
      ]
    },
    {
      "cell_type": "markdown",
      "source": [
        "# Handling Missing Values\n",
        "Fills missing values in the datasets.\n",
        "\n",
        "Numeric Columns: Fill missing numeric data with the mean of the respective column.\n",
        "\n",
        "Categorical Columns: Fill missing categorical data with the mode (most frequent value) of the respective column.\n",
        "\n",
        "Details: Handles missing data for Funcmatrices, metaA, and metaB."
      ],
      "metadata": {
        "id": "p6aspuTcWfPC"
      }
    },
    {
      "cell_type": "code",
      "source": [
        "# Separate numeric columns\n",
        "numeric_cols = Funcmatrices.select_dtypes(include=['number']).columns\n",
        "# Fill NaNs in only numeric columns with their mean\n",
        "Funcmatrices[numeric_cols] = Funcmatrices[numeric_cols].fillna(Funcmatrices[numeric_cols].mean())\n",
        "\n",
        "\n"
      ],
      "metadata": {
        "id": "zlKiy5YFvzWI"
      },
      "execution_count": 33,
      "outputs": []
    },
    {
      "cell_type": "code",
      "source": [
        "for col in metaA.columns:\n",
        "    if metaA[col].dtype in ['float64', 'int64']:\n",
        "        metaA.fillna(metaA[col].mean(), inplace=True)\n",
        "    else:\n",
        "        metaA.fillna(metaA[col].mode()[0], inplace=True)"
      ],
      "metadata": {
        "id": "6mdNyHooqA_d"
      },
      "execution_count": 34,
      "outputs": []
    },
    {
      "cell_type": "code",
      "source": [
        "#  Fill missing values in Metadata B (previously missing!) ===\n",
        "for col in metaB.columns:\n",
        "    if metaB[col].dtype in ['float64', 'int64']:\n",
        "        metaB.fillna(metaB[col].mean(), inplace=True)\n",
        "    else:\n",
        "        metaB.fillna(metaB[col].mode()[0], inplace=True)"
      ],
      "metadata": {
        "id": "qMns_hQIqDBb"
      },
      "execution_count": 35,
      "outputs": []
    },
    {
      "cell_type": "markdown",
      "source": [
        "# Merging Datasets\n",
        "Merges all datasets (metaA, metaB, Funcmatrices, and Labelsdf) based on the participant_id.\n",
        " Ensures that all necessary data is combined into a single DataFrame for further processing."
      ],
      "metadata": {
        "id": "hXdKkwjoWnJ8"
      }
    },
    {
      "cell_type": "code",
      "source": [
        "merged = metaA.merge(metaB , on = 'participant_id' , how = 'inner')\n",
        "merged = merged.merge(Funcmatrices , on = 'participant_id' , how = 'inner')\n",
        "merged = merged.merge(Labelsdf , on = 'participant_id' , how = 'inner')\n",
        "merged.head()\n"
      ],
      "metadata": {
        "colab": {
          "base_uri": "https://localhost:8080/",
          "height": 255
        },
        "id": "ipJIIfsRqFIv",
        "outputId": "3488b0da-61a1-4da0-97ad-e62d2ac7965e"
      },
      "execution_count": 36,
      "outputs": [
        {
          "output_type": "execute_result",
          "data": {
            "text/plain": [
              "  participant_id  EHQ_EHQ_Total  ColorVision_CV_Score  APQ_P_APQ_P_CP  \\\n",
              "0   DgRP31gu21O9          94.47                    14               3   \n",
              "1   dUPJ6W25gKWI         100.00                    14               3   \n",
              "2   h2wSdg7XIBUJ         100.00                    13               3   \n",
              "3   8jjvOdQ5WL1z          93.34                    14               6   \n",
              "4   VZnIq2hRErI5         100.00                    14               5   \n",
              "\n",
              "   APQ_P_APQ_P_ID  APQ_P_APQ_P_INV  APQ_P_APQ_P_OPD  APQ_P_APQ_P_PM  \\\n",
              "0              14               27               18              20   \n",
              "1               8               35               13              17   \n",
              "2              16               37               18              18   \n",
              "3              14               34               22              16   \n",
              "4              12               42               18              15   \n",
              "\n",
              "   APQ_P_APQ_P_PP  SDQ_SDQ_Conduct_Problems  ...  195throw_198thcolumn  \\\n",
              "0              21                         0  ...              0.050327   \n",
              "1              20                         2  ...             -0.071452   \n",
              "2              23                         1  ...              0.011317   \n",
              "3              25                         7  ...              0.000286   \n",
              "4              24                         1  ...             -0.041038   \n",
              "\n",
              "   195throw_199thcolumn  196throw_197thcolumn  196throw_198thcolumn  \\\n",
              "0             -0.043337              0.117421              0.088176   \n",
              "1              0.016370              0.181463              0.021223   \n",
              "2              0.012014              0.189406              0.049233   \n",
              "3             -0.024456              0.030799              0.028668   \n",
              "4             -0.069473              0.155428             -0.003444   \n",
              "\n",
              "   196throw_199thcolumn  197throw_198thcolumn  197throw_199thcolumn  \\\n",
              "0             -0.086054              0.135878              0.026985   \n",
              "1              0.106712              0.181086              0.164672   \n",
              "2              0.009693              0.105716              0.022859   \n",
              "3              0.164651              0.168047              0.089071   \n",
              "4              0.016739             -0.009289              0.099093   \n",
              "\n",
              "   198throw_199thcolumn ADHD_Outcome  Sex_F  \n",
              "0              0.127913            1      0  \n",
              "1              0.101452            1      0  \n",
              "2              0.175682            1      1  \n",
              "3              0.235597            1      0  \n",
              "4              0.050303            1      0  \n",
              "\n",
              "[5 rows x 19930 columns]"
            ],
            "text/html": [
              "\n",
              "  <div id=\"df-be6d9a87-eb0f-4361-84f7-b1b711bdc90a\" class=\"colab-df-container\">\n",
              "    <div>\n",
              "<style scoped>\n",
              "    .dataframe tbody tr th:only-of-type {\n",
              "        vertical-align: middle;\n",
              "    }\n",
              "\n",
              "    .dataframe tbody tr th {\n",
              "        vertical-align: top;\n",
              "    }\n",
              "\n",
              "    .dataframe thead th {\n",
              "        text-align: right;\n",
              "    }\n",
              "</style>\n",
              "<table border=\"1\" class=\"dataframe\">\n",
              "  <thead>\n",
              "    <tr style=\"text-align: right;\">\n",
              "      <th></th>\n",
              "      <th>participant_id</th>\n",
              "      <th>EHQ_EHQ_Total</th>\n",
              "      <th>ColorVision_CV_Score</th>\n",
              "      <th>APQ_P_APQ_P_CP</th>\n",
              "      <th>APQ_P_APQ_P_ID</th>\n",
              "      <th>APQ_P_APQ_P_INV</th>\n",
              "      <th>APQ_P_APQ_P_OPD</th>\n",
              "      <th>APQ_P_APQ_P_PM</th>\n",
              "      <th>APQ_P_APQ_P_PP</th>\n",
              "      <th>SDQ_SDQ_Conduct_Problems</th>\n",
              "      <th>...</th>\n",
              "      <th>195throw_198thcolumn</th>\n",
              "      <th>195throw_199thcolumn</th>\n",
              "      <th>196throw_197thcolumn</th>\n",
              "      <th>196throw_198thcolumn</th>\n",
              "      <th>196throw_199thcolumn</th>\n",
              "      <th>197throw_198thcolumn</th>\n",
              "      <th>197throw_199thcolumn</th>\n",
              "      <th>198throw_199thcolumn</th>\n",
              "      <th>ADHD_Outcome</th>\n",
              "      <th>Sex_F</th>\n",
              "    </tr>\n",
              "  </thead>\n",
              "  <tbody>\n",
              "    <tr>\n",
              "      <th>0</th>\n",
              "      <td>DgRP31gu21O9</td>\n",
              "      <td>94.47</td>\n",
              "      <td>14</td>\n",
              "      <td>3</td>\n",
              "      <td>14</td>\n",
              "      <td>27</td>\n",
              "      <td>18</td>\n",
              "      <td>20</td>\n",
              "      <td>21</td>\n",
              "      <td>0</td>\n",
              "      <td>...</td>\n",
              "      <td>0.050327</td>\n",
              "      <td>-0.043337</td>\n",
              "      <td>0.117421</td>\n",
              "      <td>0.088176</td>\n",
              "      <td>-0.086054</td>\n",
              "      <td>0.135878</td>\n",
              "      <td>0.026985</td>\n",
              "      <td>0.127913</td>\n",
              "      <td>1</td>\n",
              "      <td>0</td>\n",
              "    </tr>\n",
              "    <tr>\n",
              "      <th>1</th>\n",
              "      <td>dUPJ6W25gKWI</td>\n",
              "      <td>100.00</td>\n",
              "      <td>14</td>\n",
              "      <td>3</td>\n",
              "      <td>8</td>\n",
              "      <td>35</td>\n",
              "      <td>13</td>\n",
              "      <td>17</td>\n",
              "      <td>20</td>\n",
              "      <td>2</td>\n",
              "      <td>...</td>\n",
              "      <td>-0.071452</td>\n",
              "      <td>0.016370</td>\n",
              "      <td>0.181463</td>\n",
              "      <td>0.021223</td>\n",
              "      <td>0.106712</td>\n",
              "      <td>0.181086</td>\n",
              "      <td>0.164672</td>\n",
              "      <td>0.101452</td>\n",
              "      <td>1</td>\n",
              "      <td>0</td>\n",
              "    </tr>\n",
              "    <tr>\n",
              "      <th>2</th>\n",
              "      <td>h2wSdg7XIBUJ</td>\n",
              "      <td>100.00</td>\n",
              "      <td>13</td>\n",
              "      <td>3</td>\n",
              "      <td>16</td>\n",
              "      <td>37</td>\n",
              "      <td>18</td>\n",
              "      <td>18</td>\n",
              "      <td>23</td>\n",
              "      <td>1</td>\n",
              "      <td>...</td>\n",
              "      <td>0.011317</td>\n",
              "      <td>0.012014</td>\n",
              "      <td>0.189406</td>\n",
              "      <td>0.049233</td>\n",
              "      <td>0.009693</td>\n",
              "      <td>0.105716</td>\n",
              "      <td>0.022859</td>\n",
              "      <td>0.175682</td>\n",
              "      <td>1</td>\n",
              "      <td>1</td>\n",
              "    </tr>\n",
              "    <tr>\n",
              "      <th>3</th>\n",
              "      <td>8jjvOdQ5WL1z</td>\n",
              "      <td>93.34</td>\n",
              "      <td>14</td>\n",
              "      <td>6</td>\n",
              "      <td>14</td>\n",
              "      <td>34</td>\n",
              "      <td>22</td>\n",
              "      <td>16</td>\n",
              "      <td>25</td>\n",
              "      <td>7</td>\n",
              "      <td>...</td>\n",
              "      <td>0.000286</td>\n",
              "      <td>-0.024456</td>\n",
              "      <td>0.030799</td>\n",
              "      <td>0.028668</td>\n",
              "      <td>0.164651</td>\n",
              "      <td>0.168047</td>\n",
              "      <td>0.089071</td>\n",
              "      <td>0.235597</td>\n",
              "      <td>1</td>\n",
              "      <td>0</td>\n",
              "    </tr>\n",
              "    <tr>\n",
              "      <th>4</th>\n",
              "      <td>VZnIq2hRErI5</td>\n",
              "      <td>100.00</td>\n",
              "      <td>14</td>\n",
              "      <td>5</td>\n",
              "      <td>12</td>\n",
              "      <td>42</td>\n",
              "      <td>18</td>\n",
              "      <td>15</td>\n",
              "      <td>24</td>\n",
              "      <td>1</td>\n",
              "      <td>...</td>\n",
              "      <td>-0.041038</td>\n",
              "      <td>-0.069473</td>\n",
              "      <td>0.155428</td>\n",
              "      <td>-0.003444</td>\n",
              "      <td>0.016739</td>\n",
              "      <td>-0.009289</td>\n",
              "      <td>0.099093</td>\n",
              "      <td>0.050303</td>\n",
              "      <td>1</td>\n",
              "      <td>0</td>\n",
              "    </tr>\n",
              "  </tbody>\n",
              "</table>\n",
              "<p>5 rows × 19930 columns</p>\n",
              "</div>\n",
              "    <div class=\"colab-df-buttons\">\n",
              "\n",
              "  <div class=\"colab-df-container\">\n",
              "    <button class=\"colab-df-convert\" onclick=\"convertToInteractive('df-be6d9a87-eb0f-4361-84f7-b1b711bdc90a')\"\n",
              "            title=\"Convert this dataframe to an interactive table.\"\n",
              "            style=\"display:none;\">\n",
              "\n",
              "  <svg xmlns=\"http://www.w3.org/2000/svg\" height=\"24px\" viewBox=\"0 -960 960 960\">\n",
              "    <path d=\"M120-120v-720h720v720H120Zm60-500h600v-160H180v160Zm220 220h160v-160H400v160Zm0 220h160v-160H400v160ZM180-400h160v-160H180v160Zm440 0h160v-160H620v160ZM180-180h160v-160H180v160Zm440 0h160v-160H620v160Z\"/>\n",
              "  </svg>\n",
              "    </button>\n",
              "\n",
              "  <style>\n",
              "    .colab-df-container {\n",
              "      display:flex;\n",
              "      gap: 12px;\n",
              "    }\n",
              "\n",
              "    .colab-df-convert {\n",
              "      background-color: #E8F0FE;\n",
              "      border: none;\n",
              "      border-radius: 50%;\n",
              "      cursor: pointer;\n",
              "      display: none;\n",
              "      fill: #1967D2;\n",
              "      height: 32px;\n",
              "      padding: 0 0 0 0;\n",
              "      width: 32px;\n",
              "    }\n",
              "\n",
              "    .colab-df-convert:hover {\n",
              "      background-color: #E2EBFA;\n",
              "      box-shadow: 0px 1px 2px rgba(60, 64, 67, 0.3), 0px 1px 3px 1px rgba(60, 64, 67, 0.15);\n",
              "      fill: #174EA6;\n",
              "    }\n",
              "\n",
              "    .colab-df-buttons div {\n",
              "      margin-bottom: 4px;\n",
              "    }\n",
              "\n",
              "    [theme=dark] .colab-df-convert {\n",
              "      background-color: #3B4455;\n",
              "      fill: #D2E3FC;\n",
              "    }\n",
              "\n",
              "    [theme=dark] .colab-df-convert:hover {\n",
              "      background-color: #434B5C;\n",
              "      box-shadow: 0px 1px 3px 1px rgba(0, 0, 0, 0.15);\n",
              "      filter: drop-shadow(0px 1px 2px rgba(0, 0, 0, 0.3));\n",
              "      fill: #FFFFFF;\n",
              "    }\n",
              "  </style>\n",
              "\n",
              "    <script>\n",
              "      const buttonEl =\n",
              "        document.querySelector('#df-be6d9a87-eb0f-4361-84f7-b1b711bdc90a button.colab-df-convert');\n",
              "      buttonEl.style.display =\n",
              "        google.colab.kernel.accessAllowed ? 'block' : 'none';\n",
              "\n",
              "      async function convertToInteractive(key) {\n",
              "        const element = document.querySelector('#df-be6d9a87-eb0f-4361-84f7-b1b711bdc90a');\n",
              "        const dataTable =\n",
              "          await google.colab.kernel.invokeFunction('convertToInteractive',\n",
              "                                                    [key], {});\n",
              "        if (!dataTable) return;\n",
              "\n",
              "        const docLinkHtml = 'Like what you see? Visit the ' +\n",
              "          '<a target=\"_blank\" href=https://colab.research.google.com/notebooks/data_table.ipynb>data table notebook</a>'\n",
              "          + ' to learn more about interactive tables.';\n",
              "        element.innerHTML = '';\n",
              "        dataTable['output_type'] = 'display_data';\n",
              "        await google.colab.output.renderOutput(dataTable, element);\n",
              "        const docLink = document.createElement('div');\n",
              "        docLink.innerHTML = docLinkHtml;\n",
              "        element.appendChild(docLink);\n",
              "      }\n",
              "    </script>\n",
              "  </div>\n",
              "\n",
              "\n",
              "<div id=\"df-34c31acb-7ae7-4b37-bb86-5eab82ce5074\">\n",
              "  <button class=\"colab-df-quickchart\" onclick=\"quickchart('df-34c31acb-7ae7-4b37-bb86-5eab82ce5074')\"\n",
              "            title=\"Suggest charts\"\n",
              "            style=\"display:none;\">\n",
              "\n",
              "<svg xmlns=\"http://www.w3.org/2000/svg\" height=\"24px\"viewBox=\"0 0 24 24\"\n",
              "     width=\"24px\">\n",
              "    <g>\n",
              "        <path d=\"M19 3H5c-1.1 0-2 .9-2 2v14c0 1.1.9 2 2 2h14c1.1 0 2-.9 2-2V5c0-1.1-.9-2-2-2zM9 17H7v-7h2v7zm4 0h-2V7h2v10zm4 0h-2v-4h2v4z\"/>\n",
              "    </g>\n",
              "</svg>\n",
              "  </button>\n",
              "\n",
              "<style>\n",
              "  .colab-df-quickchart {\n",
              "      --bg-color: #E8F0FE;\n",
              "      --fill-color: #1967D2;\n",
              "      --hover-bg-color: #E2EBFA;\n",
              "      --hover-fill-color: #174EA6;\n",
              "      --disabled-fill-color: #AAA;\n",
              "      --disabled-bg-color: #DDD;\n",
              "  }\n",
              "\n",
              "  [theme=dark] .colab-df-quickchart {\n",
              "      --bg-color: #3B4455;\n",
              "      --fill-color: #D2E3FC;\n",
              "      --hover-bg-color: #434B5C;\n",
              "      --hover-fill-color: #FFFFFF;\n",
              "      --disabled-bg-color: #3B4455;\n",
              "      --disabled-fill-color: #666;\n",
              "  }\n",
              "\n",
              "  .colab-df-quickchart {\n",
              "    background-color: var(--bg-color);\n",
              "    border: none;\n",
              "    border-radius: 50%;\n",
              "    cursor: pointer;\n",
              "    display: none;\n",
              "    fill: var(--fill-color);\n",
              "    height: 32px;\n",
              "    padding: 0;\n",
              "    width: 32px;\n",
              "  }\n",
              "\n",
              "  .colab-df-quickchart:hover {\n",
              "    background-color: var(--hover-bg-color);\n",
              "    box-shadow: 0 1px 2px rgba(60, 64, 67, 0.3), 0 1px 3px 1px rgba(60, 64, 67, 0.15);\n",
              "    fill: var(--button-hover-fill-color);\n",
              "  }\n",
              "\n",
              "  .colab-df-quickchart-complete:disabled,\n",
              "  .colab-df-quickchart-complete:disabled:hover {\n",
              "    background-color: var(--disabled-bg-color);\n",
              "    fill: var(--disabled-fill-color);\n",
              "    box-shadow: none;\n",
              "  }\n",
              "\n",
              "  .colab-df-spinner {\n",
              "    border: 2px solid var(--fill-color);\n",
              "    border-color: transparent;\n",
              "    border-bottom-color: var(--fill-color);\n",
              "    animation:\n",
              "      spin 1s steps(1) infinite;\n",
              "  }\n",
              "\n",
              "  @keyframes spin {\n",
              "    0% {\n",
              "      border-color: transparent;\n",
              "      border-bottom-color: var(--fill-color);\n",
              "      border-left-color: var(--fill-color);\n",
              "    }\n",
              "    20% {\n",
              "      border-color: transparent;\n",
              "      border-left-color: var(--fill-color);\n",
              "      border-top-color: var(--fill-color);\n",
              "    }\n",
              "    30% {\n",
              "      border-color: transparent;\n",
              "      border-left-color: var(--fill-color);\n",
              "      border-top-color: var(--fill-color);\n",
              "      border-right-color: var(--fill-color);\n",
              "    }\n",
              "    40% {\n",
              "      border-color: transparent;\n",
              "      border-right-color: var(--fill-color);\n",
              "      border-top-color: var(--fill-color);\n",
              "    }\n",
              "    60% {\n",
              "      border-color: transparent;\n",
              "      border-right-color: var(--fill-color);\n",
              "    }\n",
              "    80% {\n",
              "      border-color: transparent;\n",
              "      border-right-color: var(--fill-color);\n",
              "      border-bottom-color: var(--fill-color);\n",
              "    }\n",
              "    90% {\n",
              "      border-color: transparent;\n",
              "      border-bottom-color: var(--fill-color);\n",
              "    }\n",
              "  }\n",
              "</style>\n",
              "\n",
              "  <script>\n",
              "    async function quickchart(key) {\n",
              "      const quickchartButtonEl =\n",
              "        document.querySelector('#' + key + ' button');\n",
              "      quickchartButtonEl.disabled = true;  // To prevent multiple clicks.\n",
              "      quickchartButtonEl.classList.add('colab-df-spinner');\n",
              "      try {\n",
              "        const charts = await google.colab.kernel.invokeFunction(\n",
              "            'suggestCharts', [key], {});\n",
              "      } catch (error) {\n",
              "        console.error('Error during call to suggestCharts:', error);\n",
              "      }\n",
              "      quickchartButtonEl.classList.remove('colab-df-spinner');\n",
              "      quickchartButtonEl.classList.add('colab-df-quickchart-complete');\n",
              "    }\n",
              "    (() => {\n",
              "      let quickchartButtonEl =\n",
              "        document.querySelector('#df-34c31acb-7ae7-4b37-bb86-5eab82ce5074 button');\n",
              "      quickchartButtonEl.style.display =\n",
              "        google.colab.kernel.accessAllowed ? 'block' : 'none';\n",
              "    })();\n",
              "  </script>\n",
              "</div>\n",
              "\n",
              "    </div>\n",
              "  </div>\n"
            ],
            "application/vnd.google.colaboratory.intrinsic+json": {
              "type": "dataframe",
              "variable_name": "merged"
            }
          },
          "metadata": {},
          "execution_count": 36
        }
      ]
    },
    {
      "cell_type": "code",
      "source": [
        "print('participant_id' in merged.columns)  # should return True\n"
      ],
      "metadata": {
        "colab": {
          "base_uri": "https://localhost:8080/"
        },
        "id": "l86GGZxNxTeC",
        "outputId": "b85009d3-077f-41d3-a2e4-d4159f3d3ee5"
      },
      "execution_count": 37,
      "outputs": [
        {
          "output_type": "stream",
          "name": "stdout",
          "text": [
            "True\n"
          ]
        }
      ]
    },
    {
      "cell_type": "code",
      "source": [
        "merged.drop(columns=['participant_id'], inplace=True)"
      ],
      "metadata": {
        "id": "pB32ZufNrQKC"
      },
      "execution_count": 38,
      "outputs": []
    },
    {
      "cell_type": "code",
      "source": [
        "X = merged.drop(columns=['ADHD_Outcome', 'Sex_F', 'participant_id'], errors='ignore')\n",
        "y = merged[['ADHD_Outcome', 'Sex_F']]"
      ],
      "metadata": {
        "id": "93kdLQgytMUi"
      },
      "execution_count": 39,
      "outputs": []
    },
    {
      "cell_type": "code",
      "source": [
        "X_train, X_test, y_train, y_test = train_test_split(X, y, test_size=0.2, random_state=42)\n"
      ],
      "metadata": {
        "id": "GzEA6Ga8tQxl"
      },
      "execution_count": 40,
      "outputs": []
    },
    {
      "cell_type": "markdown",
      "source": [
        "# Checking for the frequency of each categorical feature using Count plot"
      ],
      "metadata": {
        "id": "NVKaxC_ztd3V"
      }
    },
    {
      "cell_type": "code",
      "source": [
        "# ADHD Outcome Count Plot\n",
        "plt.figure(figsize=(5, 3))\n",
        "sns.countplot(x=y_train[\"ADHD_Outcome\"])\n",
        "plt.title(\"ADHD Outcome Distribution in Training Data\")\n",
        "plt.show()"
      ],
      "metadata": {
        "id": "rwoHrnGKtFL5",
        "colab": {
          "base_uri": "https://localhost:8080/",
          "height": 333
        },
        "outputId": "1c517791-c86c-4fc0-dc55-b72cacc00908"
      },
      "execution_count": 41,
      "outputs": [
        {
          "output_type": "display_data",
          "data": {
            "text/plain": [
              "<Figure size 500x300 with 1 Axes>"
            ],
            "image/png": "[encoded data removed]"
          },
          "metadata": {}
        }
      ]
    },
    {
      "cell_type": "markdown",
      "source": [
        "- The above count plot is done to calculate the frequency of each label 0 and 1.\n",
        "- 0 indicates people with no ADHD\n",
        "- 1 indicates people with ADHD .\n",
        "- The number of people with ADHD is significantly higher than the number of people with none or some other nerologcal disease."
      ],
      "metadata": {
        "id": "tP5-Xz_7tMdj"
      }
    },
    {
      "cell_type": "code",
      "source": [
        "# Sex Count Plot\n",
        "plt.figure(figsize=(5, 3))\n",
        "sns.countplot(x=y_train[\"Sex_F\"])\n",
        "plt.title(\" Distribution in Training Data\")\n",
        "plt.show()"
      ],
      "metadata": {
        "id": "gRKjveqttVIC",
        "colab": {
          "base_uri": "https://localhost:8080/",
          "height": 333
        },
        "outputId": "ca9ff1d2-8657-40c8-d1f9-de18513cafc1"
      },
      "execution_count": 18,
      "outputs": [
        {
          "output_type": "display_data",
          "data": {
            "text/plain": [
              "<Figure size 500x300 with 1 Axes>"
            ],
            "image/png": "[encoded data removed]"
          },
          "metadata": {}
        }
      ]
    },
    {
      "cell_type": "markdown",
      "source": [
        "- The above count plot is done to calculate the frequency of each label 0 and 1 .\n",
        "- 0 indicates males.\n",
        "- 1 indicates females.\n",
        "- The number of females with ADHD is significantly higher than the number of males with none or some other nerologcal disease."
      ],
      "metadata": {
        "id": "ylVrG2hztV9G"
      }
    },
    {
      "cell_type": "code",
      "source": [
        "X_train_c = X_train.columns[27:]\n",
        "X_train_cdf= X_train[X_train_c]\n",
        "X_train_cdf"
      ],
      "metadata": {
        "colab": {
          "base_uri": "https://localhost:8080/",
          "height": 443
        },
        "id": "RpA2ilCUtihk",
        "outputId": "caba2cdd-e21f-4d35-ebf9-bbe4cbaaa9a3"
      },
      "execution_count": 42,
      "outputs": [
        {
          "output_type": "execute_result",
          "data": {
            "text/plain": [
              "    0throw_1thcolumn  0throw_2thcolumn  0throw_3thcolumn  0throw_4thcolumn  \\\n",
              "66          0.051145          0.121028         -0.081725          0.061081   \n",
              "15          0.065771          0.098714          0.097604          0.112988   \n",
              "78          0.150753          0.054901          0.062244          0.008830   \n",
              "79          0.024539          0.115689         -0.019450          0.053460   \n",
              "30          0.055337          0.073712          0.077901          0.051004   \n",
              "..               ...               ...               ...               ...   \n",
              "60          0.016668          0.075889         -0.010410          0.076217   \n",
              "71         -0.047163          0.194083          0.083379          0.060363   \n",
              "14          0.066947          0.124812          0.055323          0.056200   \n",
              "92          0.153629          0.074435          0.015124          0.014992   \n",
              "51          0.005405          0.113456          0.031167          0.066622   \n",
              "\n",
              "    0throw_5thcolumn  0throw_6thcolumn  0throw_7thcolumn  0throw_8thcolumn  \\\n",
              "66          0.051842          0.088431          0.047951          0.003648   \n",
              "15          0.071139          0.085607          0.019392         -0.036403   \n",
              "78          0.058678          0.196030          0.089788         -0.029214   \n",
              "79          0.111279          0.153638          0.142650         -0.024723   \n",
              "30          0.119618          0.090436          0.028224          0.013527   \n",
              "..               ...               ...               ...               ...   \n",
              "60          0.077951          0.112858          0.064658         -0.053502   \n",
              "71          0.051840          0.017147          0.109053         -0.012030   \n",
              "14          0.110998          0.136771          0.067829          0.024514   \n",
              "92          0.034177          0.057369          0.126077          0.093073   \n",
              "51          0.154975          0.104110          0.107915         -0.053018   \n",
              "\n",
              "    0throw_9thcolumn  0throw_10thcolumn  ...  195throw_196thcolumn  \\\n",
              "66          0.018915          -0.011102  ...             -0.044090   \n",
              "15         -0.020375           0.005426  ...              0.066439   \n",
              "78          0.027218          -0.000932  ...             -0.043093   \n",
              "79          0.021226          -0.084285  ...             -0.023250   \n",
              "30         -0.012790          -0.001450  ...              0.049600   \n",
              "..               ...                ...  ...                   ...   \n",
              "60          0.018995          -0.024883  ...             -0.048685   \n",
              "71          0.024031          -0.029282  ...              0.053942   \n",
              "14         -0.025779           0.017436  ...              0.055558   \n",
              "92         -0.056151           0.004281  ...             -0.043435   \n",
              "51          0.025855          -0.008918  ...             -0.027094   \n",
              "\n",
              "    195throw_197thcolumn  195throw_198thcolumn  195throw_199thcolumn  \\\n",
              "66              0.009518             -0.096676             -0.007233   \n",
              "15             -0.076680             -0.047530             -0.031443   \n",
              "78             -0.047271             -0.027638             -0.088943   \n",
              "79             -0.129260             -0.035315             -0.081737   \n",
              "30              0.007778             -0.018346             -0.027651   \n",
              "..                   ...                   ...                   ...   \n",
              "60             -0.022721              0.040425             -0.057429   \n",
              "71              0.021861              0.056240              0.002809   \n",
              "14              0.023955              0.023600             -0.019650   \n",
              "92             -0.110417              0.077255             -0.076053   \n",
              "51             -0.015637              0.000735             -0.097093   \n",
              "\n",
              "    196throw_197thcolumn  196throw_198thcolumn  196throw_199thcolumn  \\\n",
              "66              0.108839              0.067253              0.010531   \n",
              "15              0.221213              0.007343              0.005763   \n",
              "78              0.117812              0.030816              0.037119   \n",
              "79              0.058518              0.098588              0.117367   \n",
              "30              0.114352             -0.012992              0.090928   \n",
              "..                   ...                   ...                   ...   \n",
              "60              0.187949              0.122711              0.031954   \n",
              "71              0.035923              0.040852              0.081576   \n",
              "14              0.088029             -0.014592              0.089642   \n",
              "92              0.097439              0.084935              0.065258   \n",
              "51              0.003229              0.084787              0.029701   \n",
              "\n",
              "    197throw_198thcolumn  197throw_199thcolumn  198throw_199thcolumn  \n",
              "66              0.086165              0.065078              0.154482  \n",
              "15              0.083820              0.079582              0.067269  \n",
              "78              0.069247              0.170678              0.116697  \n",
              "79              0.140549              0.130049              0.100255  \n",
              "30              0.133553              0.064743              0.078932  \n",
              "..                   ...                   ...                   ...  \n",
              "60              0.182937              0.165340              0.176245  \n",
              "71              0.129870              0.160253              0.117067  \n",
              "14              0.108644              0.087720              0.031178  \n",
              "92              0.140520              0.093918              0.082983  \n",
              "51              0.161067              0.085830              0.114452  \n",
              "\n",
              "[76 rows x 19900 columns]"
            ],
            "text/html": [
              "\n",
              "  <div id=\"df-2984ca31-422f-42dd-a28e-60cdd9288056\" class=\"colab-df-container\">\n",
              "    <div>\n",
              "<style scoped>\n",
              "    .dataframe tbody tr th:only-of-type {\n",
              "        vertical-align: middle;\n",
              "    }\n",
              "\n",
              "    .dataframe tbody tr th {\n",
              "        vertical-align: top;\n",
              "    }\n",
              "\n",
              "    .dataframe thead th {\n",
              "        text-align: right;\n",
              "    }\n",
              "</style>\n",
              "<table border=\"1\" class=\"dataframe\">\n",
              "  <thead>\n",
              "    <tr style=\"text-align: right;\">\n",
              "      <th></th>\n",
              "      <th>0throw_1thcolumn</th>\n",
              "      <th>0throw_2thcolumn</th>\n",
              "      <th>0throw_3thcolumn</th>\n",
              "      <th>0throw_4thcolumn</th>\n",
              "      <th>0throw_5thcolumn</th>\n",
              "      <th>0throw_6thcolumn</th>\n",
              "      <th>0throw_7thcolumn</th>\n",
              "      <th>0throw_8thcolumn</th>\n",
              "      <th>0throw_9thcolumn</th>\n",
              "      <th>0throw_10thcolumn</th>\n",
              "      <th>...</th>\n",
              "      <th>195throw_196thcolumn</th>\n",
              "      <th>195throw_197thcolumn</th>\n",
              "      <th>195throw_198thcolumn</th>\n",
              "      <th>195throw_199thcolumn</th>\n",
              "      <th>196throw_197thcolumn</th>\n",
              "      <th>196throw_198thcolumn</th>\n",
              "      <th>196throw_199thcolumn</th>\n",
              "      <th>197throw_198thcolumn</th>\n",
              "      <th>197throw_199thcolumn</th>\n",
              "      <th>198throw_199thcolumn</th>\n",
              "    </tr>\n",
              "  </thead>\n",
              "  <tbody>\n",
              "    <tr>\n",
              "      <th>66</th>\n",
              "      <td>0.051145</td>\n",
              "      <td>0.121028</td>\n",
              "      <td>-0.081725</td>\n",
              "      <td>0.061081</td>\n",
              "      <td>0.051842</td>\n",
              "      <td>0.088431</td>\n",
              "      <td>0.047951</td>\n",
              "      <td>0.003648</td>\n",
              "      <td>0.018915</td>\n",
              "      <td>-0.011102</td>\n",
              "      <td>...</td>\n",
              "      <td>-0.044090</td>\n",
              "      <td>0.009518</td>\n",
              "      <td>-0.096676</td>\n",
              "      <td>-0.007233</td>\n",
              "      <td>0.108839</td>\n",
              "      <td>0.067253</td>\n",
              "      <td>0.010531</td>\n",
              "      <td>0.086165</td>\n",
              "      <td>0.065078</td>\n",
              "      <td>0.154482</td>\n",
              "    </tr>\n",
              "    <tr>\n",
              "      <th>15</th>\n",
              "      <td>0.065771</td>\n",
              "      <td>0.098714</td>\n",
              "      <td>0.097604</td>\n",
              "      <td>0.112988</td>\n",
              "      <td>0.071139</td>\n",
              "      <td>0.085607</td>\n",
              "      <td>0.019392</td>\n",
              "      <td>-0.036403</td>\n",
              "      <td>-0.020375</td>\n",
              "      <td>0.005426</td>\n",
              "      <td>...</td>\n",
              "      <td>0.066439</td>\n",
              "      <td>-0.076680</td>\n",
              "      <td>-0.047530</td>\n",
              "      <td>-0.031443</td>\n",
              "      <td>0.221213</td>\n",
              "      <td>0.007343</td>\n",
              "      <td>0.005763</td>\n",
              "      <td>0.083820</td>\n",
              "      <td>0.079582</td>\n",
              "      <td>0.067269</td>\n",
              "    </tr>\n",
              "    <tr>\n",
              "      <th>78</th>\n",
              "      <td>0.150753</td>\n",
              "      <td>0.054901</td>\n",
              "      <td>0.062244</td>\n",
              "      <td>0.008830</td>\n",
              "      <td>0.058678</td>\n",
              "      <td>0.196030</td>\n",
              "      <td>0.089788</td>\n",
              "      <td>-0.029214</td>\n",
              "      <td>0.027218</td>\n",
              "      <td>-0.000932</td>\n",
              "      <td>...</td>\n",
              "      <td>-0.043093</td>\n",
              "      <td>-0.047271</td>\n",
              "      <td>-0.027638</td>\n",
              "      <td>-0.088943</td>\n",
              "      <td>0.117812</td>\n",
              "      <td>0.030816</td>\n",
              "      <td>0.037119</td>\n",
              "      <td>0.069247</td>\n",
              "      <td>0.170678</td>\n",
              "      <td>0.116697</td>\n",
              "    </tr>\n",
              "    <tr>\n",
              "      <th>79</th>\n",
              "      <td>0.024539</td>\n",
              "      <td>0.115689</td>\n",
              "      <td>-0.019450</td>\n",
              "      <td>0.053460</td>\n",
              "      <td>0.111279</td>\n",
              "      <td>0.153638</td>\n",
              "      <td>0.142650</td>\n",
              "      <td>-0.024723</td>\n",
              "      <td>0.021226</td>\n",
              "      <td>-0.084285</td>\n",
              "      <td>...</td>\n",
              "      <td>-0.023250</td>\n",
              "      <td>-0.129260</td>\n",
              "      <td>-0.035315</td>\n",
              "      <td>-0.081737</td>\n",
              "      <td>0.058518</td>\n",
              "      <td>0.098588</td>\n",
              "      <td>0.117367</td>\n",
              "      <td>0.140549</td>\n",
              "      <td>0.130049</td>\n",
              "      <td>0.100255</td>\n",
              "    </tr>\n",
              "    <tr>\n",
              "      <th>30</th>\n",
              "      <td>0.055337</td>\n",
              "      <td>0.073712</td>\n",
              "      <td>0.077901</td>\n",
              "      <td>0.051004</td>\n",
              "      <td>0.119618</td>\n",
              "      <td>0.090436</td>\n",
              "      <td>0.028224</td>\n",
              "      <td>0.013527</td>\n",
              "      <td>-0.012790</td>\n",
              "      <td>-0.001450</td>\n",
              "      <td>...</td>\n",
              "      <td>0.049600</td>\n",
              "      <td>0.007778</td>\n",
              "      <td>-0.018346</td>\n",
              "      <td>-0.027651</td>\n",
              "      <td>0.114352</td>\n",
              "      <td>-0.012992</td>\n",
              "      <td>0.090928</td>\n",
              "      <td>0.133553</td>\n",
              "      <td>0.064743</td>\n",
              "      <td>0.078932</td>\n",
              "    </tr>\n",
              "    <tr>\n",
              "      <th>...</th>\n",
              "      <td>...</td>\n",
              "      <td>...</td>\n",
              "      <td>...</td>\n",
              "      <td>...</td>\n",
              "      <td>...</td>\n",
              "      <td>...</td>\n",
              "      <td>...</td>\n",
              "      <td>...</td>\n",
              "      <td>...</td>\n",
              "      <td>...</td>\n",
              "      <td>...</td>\n",
              "      <td>...</td>\n",
              "      <td>...</td>\n",
              "      <td>...</td>\n",
              "      <td>...</td>\n",
              "      <td>...</td>\n",
              "      <td>...</td>\n",
              "      <td>...</td>\n",
              "      <td>...</td>\n",
              "      <td>...</td>\n",
              "      <td>...</td>\n",
              "    </tr>\n",
              "    <tr>\n",
              "      <th>60</th>\n",
              "      <td>0.016668</td>\n",
              "      <td>0.075889</td>\n",
              "      <td>-0.010410</td>\n",
              "      <td>0.076217</td>\n",
              "      <td>0.077951</td>\n",
              "      <td>0.112858</td>\n",
              "      <td>0.064658</td>\n",
              "      <td>-0.053502</td>\n",
              "      <td>0.018995</td>\n",
              "      <td>-0.024883</td>\n",
              "      <td>...</td>\n",
              "      <td>-0.048685</td>\n",
              "      <td>-0.022721</td>\n",
              "      <td>0.040425</td>\n",
              "      <td>-0.057429</td>\n",
              "      <td>0.187949</td>\n",
              "      <td>0.122711</td>\n",
              "      <td>0.031954</td>\n",
              "      <td>0.182937</td>\n",
              "      <td>0.165340</td>\n",
              "      <td>0.176245</td>\n",
              "    </tr>\n",
              "    <tr>\n",
              "      <th>71</th>\n",
              "      <td>-0.047163</td>\n",
              "      <td>0.194083</td>\n",
              "      <td>0.083379</td>\n",
              "      <td>0.060363</td>\n",
              "      <td>0.051840</td>\n",
              "      <td>0.017147</td>\n",
              "      <td>0.109053</td>\n",
              "      <td>-0.012030</td>\n",
              "      <td>0.024031</td>\n",
              "      <td>-0.029282</td>\n",
              "      <td>...</td>\n",
              "      <td>0.053942</td>\n",
              "      <td>0.021861</td>\n",
              "      <td>0.056240</td>\n",
              "      <td>0.002809</td>\n",
              "      <td>0.035923</td>\n",
              "      <td>0.040852</td>\n",
              "      <td>0.081576</td>\n",
              "      <td>0.129870</td>\n",
              "      <td>0.160253</td>\n",
              "      <td>0.117067</td>\n",
              "    </tr>\n",
              "    <tr>\n",
              "      <th>14</th>\n",
              "      <td>0.066947</td>\n",
              "      <td>0.124812</td>\n",
              "      <td>0.055323</td>\n",
              "      <td>0.056200</td>\n",
              "      <td>0.110998</td>\n",
              "      <td>0.136771</td>\n",
              "      <td>0.067829</td>\n",
              "      <td>0.024514</td>\n",
              "      <td>-0.025779</td>\n",
              "      <td>0.017436</td>\n",
              "      <td>...</td>\n",
              "      <td>0.055558</td>\n",
              "      <td>0.023955</td>\n",
              "      <td>0.023600</td>\n",
              "      <td>-0.019650</td>\n",
              "      <td>0.088029</td>\n",
              "      <td>-0.014592</td>\n",
              "      <td>0.089642</td>\n",
              "      <td>0.108644</td>\n",
              "      <td>0.087720</td>\n",
              "      <td>0.031178</td>\n",
              "    </tr>\n",
              "    <tr>\n",
              "      <th>92</th>\n",
              "      <td>0.153629</td>\n",
              "      <td>0.074435</td>\n",
              "      <td>0.015124</td>\n",
              "      <td>0.014992</td>\n",
              "      <td>0.034177</td>\n",
              "      <td>0.057369</td>\n",
              "      <td>0.126077</td>\n",
              "      <td>0.093073</td>\n",
              "      <td>-0.056151</td>\n",
              "      <td>0.004281</td>\n",
              "      <td>...</td>\n",
              "      <td>-0.043435</td>\n",
              "      <td>-0.110417</td>\n",
              "      <td>0.077255</td>\n",
              "      <td>-0.076053</td>\n",
              "      <td>0.097439</td>\n",
              "      <td>0.084935</td>\n",
              "      <td>0.065258</td>\n",
              "      <td>0.140520</td>\n",
              "      <td>0.093918</td>\n",
              "      <td>0.082983</td>\n",
              "    </tr>\n",
              "    <tr>\n",
              "      <th>51</th>\n",
              "      <td>0.005405</td>\n",
              "      <td>0.113456</td>\n",
              "      <td>0.031167</td>\n",
              "      <td>0.066622</td>\n",
              "      <td>0.154975</td>\n",
              "      <td>0.104110</td>\n",
              "      <td>0.107915</td>\n",
              "      <td>-0.053018</td>\n",
              "      <td>0.025855</td>\n",
              "      <td>-0.008918</td>\n",
              "      <td>...</td>\n",
              "      <td>-0.027094</td>\n",
              "      <td>-0.015637</td>\n",
              "      <td>0.000735</td>\n",
              "      <td>-0.097093</td>\n",
              "      <td>0.003229</td>\n",
              "      <td>0.084787</td>\n",
              "      <td>0.029701</td>\n",
              "      <td>0.161067</td>\n",
              "      <td>0.085830</td>\n",
              "      <td>0.114452</td>\n",
              "    </tr>\n",
              "  </tbody>\n",
              "</table>\n",
              "<p>76 rows × 19900 columns</p>\n",
              "</div>\n",
              "    <div class=\"colab-df-buttons\">\n",
              "\n",
              "  <div class=\"colab-df-container\">\n",
              "    <button class=\"colab-df-convert\" onclick=\"convertToInteractive('df-2984ca31-422f-42dd-a28e-60cdd9288056')\"\n",
              "            title=\"Convert this dataframe to an interactive table.\"\n",
              "            style=\"display:none;\">\n",
              "\n",
              "  <svg xmlns=\"http://www.w3.org/2000/svg\" height=\"24px\" viewBox=\"0 -960 960 960\">\n",
              "    <path d=\"M120-120v-720h720v720H120Zm60-500h600v-160H180v160Zm220 220h160v-160H400v160Zm0 220h160v-160H400v160ZM180-400h160v-160H180v160Zm440 0h160v-160H620v160ZM180-180h160v-160H180v160Zm440 0h160v-160H620v160Z\"/>\n",
              "  </svg>\n",
              "    </button>\n",
              "\n",
              "  <style>\n",
              "    .colab-df-container {\n",
              "      display:flex;\n",
              "      gap: 12px;\n",
              "    }\n",
              "\n",
              "    .colab-df-convert {\n",
              "      background-color: #E8F0FE;\n",
              "      border: none;\n",
              "      border-radius: 50%;\n",
              "      cursor: pointer;\n",
              "      display: none;\n",
              "      fill: #1967D2;\n",
              "      height: 32px;\n",
              "      padding: 0 0 0 0;\n",
              "      width: 32px;\n",
              "    }\n",
              "\n",
              "    .colab-df-convert:hover {\n",
              "      background-color: #E2EBFA;\n",
              "      box-shadow: 0px 1px 2px rgba(60, 64, 67, 0.3), 0px 1px 3px 1px rgba(60, 64, 67, 0.15);\n",
              "      fill: #174EA6;\n",
              "    }\n",
              "\n",
              "    .colab-df-buttons div {\n",
              "      margin-bottom: 4px;\n",
              "    }\n",
              "\n",
              "    [theme=dark] .colab-df-convert {\n",
              "      background-color: #3B4455;\n",
              "      fill: #D2E3FC;\n",
              "    }\n",
              "\n",
              "    [theme=dark] .colab-df-convert:hover {\n",
              "      background-color: #434B5C;\n",
              "      box-shadow: 0px 1px 3px 1px rgba(0, 0, 0, 0.15);\n",
              "      filter: drop-shadow(0px 1px 2px rgba(0, 0, 0, 0.3));\n",
              "      fill: #FFFFFF;\n",
              "    }\n",
              "  </style>\n",
              "\n",
              "    <script>\n",
              "      const buttonEl =\n",
              "        document.querySelector('#df-2984ca31-422f-42dd-a28e-60cdd9288056 button.colab-df-convert');\n",
              "      buttonEl.style.display =\n",
              "        google.colab.kernel.accessAllowed ? 'block' : 'none';\n",
              "\n",
              "      async function convertToInteractive(key) {\n",
              "        const element = document.querySelector('#df-2984ca31-422f-42dd-a28e-60cdd9288056');\n",
              "        const dataTable =\n",
              "          await google.colab.kernel.invokeFunction('convertToInteractive',\n",
              "                                                    [key], {});\n",
              "        if (!dataTable) return;\n",
              "\n",
              "        const docLinkHtml = 'Like what you see? Visit the ' +\n",
              "          '<a target=\"_blank\" href=https://colab.research.google.com/notebooks/data_table.ipynb>data table notebook</a>'\n",
              "          + ' to learn more about interactive tables.';\n",
              "        element.innerHTML = '';\n",
              "        dataTable['output_type'] = 'display_data';\n",
              "        await google.colab.output.renderOutput(dataTable, element);\n",
              "        const docLink = document.createElement('div');\n",
              "        docLink.innerHTML = docLinkHtml;\n",
              "        element.appendChild(docLink);\n",
              "      }\n",
              "    </script>\n",
              "  </div>\n",
              "\n",
              "\n",
              "<div id=\"df-ddcdd98c-473f-459a-bcb9-bc627289350a\">\n",
              "  <button class=\"colab-df-quickchart\" onclick=\"quickchart('df-ddcdd98c-473f-459a-bcb9-bc627289350a')\"\n",
              "            title=\"Suggest charts\"\n",
              "            style=\"display:none;\">\n",
              "\n",
              "<svg xmlns=\"http://www.w3.org/2000/svg\" height=\"24px\"viewBox=\"0 0 24 24\"\n",
              "     width=\"24px\">\n",
              "    <g>\n",
              "        <path d=\"M19 3H5c-1.1 0-2 .9-2 2v14c0 1.1.9 2 2 2h14c1.1 0 2-.9 2-2V5c0-1.1-.9-2-2-2zM9 17H7v-7h2v7zm4 0h-2V7h2v10zm4 0h-2v-4h2v4z\"/>\n",
              "    </g>\n",
              "</svg>\n",
              "  </button>\n",
              "\n",
              "<style>\n",
              "  .colab-df-quickchart {\n",
              "      --bg-color: #E8F0FE;\n",
              "      --fill-color: #1967D2;\n",
              "      --hover-bg-color: #E2EBFA;\n",
              "      --hover-fill-color: #174EA6;\n",
              "      --disabled-fill-color: #AAA;\n",
              "      --disabled-bg-color: #DDD;\n",
              "  }\n",
              "\n",
              "  [theme=dark] .colab-df-quickchart {\n",
              "      --bg-color: #3B4455;\n",
              "      --fill-color: #D2E3FC;\n",
              "      --hover-bg-color: #434B5C;\n",
              "      --hover-fill-color: #FFFFFF;\n",
              "      --disabled-bg-color: #3B4455;\n",
              "      --disabled-fill-color: #666;\n",
              "  }\n",
              "\n",
              "  .colab-df-quickchart {\n",
              "    background-color: var(--bg-color);\n",
              "    border: none;\n",
              "    border-radius: 50%;\n",
              "    cursor: pointer;\n",
              "    display: none;\n",
              "    fill: var(--fill-color);\n",
              "    height: 32px;\n",
              "    padding: 0;\n",
              "    width: 32px;\n",
              "  }\n",
              "\n",
              "  .colab-df-quickchart:hover {\n",
              "    background-color: var(--hover-bg-color);\n",
              "    box-shadow: 0 1px 2px rgba(60, 64, 67, 0.3), 0 1px 3px 1px rgba(60, 64, 67, 0.15);\n",
              "    fill: var(--button-hover-fill-color);\n",
              "  }\n",
              "\n",
              "  .colab-df-quickchart-complete:disabled,\n",
              "  .colab-df-quickchart-complete:disabled:hover {\n",
              "    background-color: var(--disabled-bg-color);\n",
              "    fill: var(--disabled-fill-color);\n",
              "    box-shadow: none;\n",
              "  }\n",
              "\n",
              "  .colab-df-spinner {\n",
              "    border: 2px solid var(--fill-color);\n",
              "    border-color: transparent;\n",
              "    border-bottom-color: var(--fill-color);\n",
              "    animation:\n",
              "      spin 1s steps(1) infinite;\n",
              "  }\n",
              "\n",
              "  @keyframes spin {\n",
              "    0% {\n",
              "      border-color: transparent;\n",
              "      border-bottom-color: var(--fill-color);\n",
              "      border-left-color: var(--fill-color);\n",
              "    }\n",
              "    20% {\n",
              "      border-color: transparent;\n",
              "      border-left-color: var(--fill-color);\n",
              "      border-top-color: var(--fill-color);\n",
              "    }\n",
              "    30% {\n",
              "      border-color: transparent;\n",
              "      border-left-color: var(--fill-color);\n",
              "      border-top-color: var(--fill-color);\n",
              "      border-right-color: var(--fill-color);\n",
              "    }\n",
              "    40% {\n",
              "      border-color: transparent;\n",
              "      border-right-color: var(--fill-color);\n",
              "      border-top-color: var(--fill-color);\n",
              "    }\n",
              "    60% {\n",
              "      border-color: transparent;\n",
              "      border-right-color: var(--fill-color);\n",
              "    }\n",
              "    80% {\n",
              "      border-color: transparent;\n",
              "      border-right-color: var(--fill-color);\n",
              "      border-bottom-color: var(--fill-color);\n",
              "    }\n",
              "    90% {\n",
              "      border-color: transparent;\n",
              "      border-bottom-color: var(--fill-color);\n",
              "    }\n",
              "  }\n",
              "</style>\n",
              "\n",
              "  <script>\n",
              "    async function quickchart(key) {\n",
              "      const quickchartButtonEl =\n",
              "        document.querySelector('#' + key + ' button');\n",
              "      quickchartButtonEl.disabled = true;  // To prevent multiple clicks.\n",
              "      quickchartButtonEl.classList.add('colab-df-spinner');\n",
              "      try {\n",
              "        const charts = await google.colab.kernel.invokeFunction(\n",
              "            'suggestCharts', [key], {});\n",
              "      } catch (error) {\n",
              "        console.error('Error during call to suggestCharts:', error);\n",
              "      }\n",
              "      quickchartButtonEl.classList.remove('colab-df-spinner');\n",
              "      quickchartButtonEl.classList.add('colab-df-quickchart-complete');\n",
              "    }\n",
              "    (() => {\n",
              "      let quickchartButtonEl =\n",
              "        document.querySelector('#df-ddcdd98c-473f-459a-bcb9-bc627289350a button');\n",
              "      quickchartButtonEl.style.display =\n",
              "        google.colab.kernel.accessAllowed ? 'block' : 'none';\n",
              "    })();\n",
              "  </script>\n",
              "</div>\n",
              "\n",
              "  <div id=\"id_d4f36f9e-c690-41b7-8d37-7de04a328b4a\">\n",
              "    <style>\n",
              "      .colab-df-generate {\n",
              "        background-color: #E8F0FE;\n",
              "        border: none;\n",
              "        border-radius: 50%;\n",
              "        cursor: pointer;\n",
              "        display: none;\n",
              "        fill: #1967D2;\n",
              "        height: 32px;\n",
              "        padding: 0 0 0 0;\n",
              "        width: 32px;\n",
              "      }\n",
              "\n",
              "      .colab-df-generate:hover {\n",
              "        background-color: #E2EBFA;\n",
              "        box-shadow: 0px 1px 2px rgba(60, 64, 67, 0.3), 0px 1px 3px 1px rgba(60, 64, 67, 0.15);\n",
              "        fill: #174EA6;\n",
              "      }\n",
              "\n",
              "      [theme=dark] .colab-df-generate {\n",
              "        background-color: #3B4455;\n",
              "        fill: #D2E3FC;\n",
              "      }\n",
              "\n",
              "      [theme=dark] .colab-df-generate:hover {\n",
              "        background-color: #434B5C;\n",
              "        box-shadow: 0px 1px 3px 1px rgba(0, 0, 0, 0.15);\n",
              "        filter: drop-shadow(0px 1px 2px rgba(0, 0, 0, 0.3));\n",
              "        fill: #FFFFFF;\n",
              "      }\n",
              "    </style>\n",
              "    <button class=\"colab-df-generate\" onclick=\"generateWithVariable('X_train_cdf')\"\n",
              "            title=\"Generate code using this dataframe.\"\n",
              "            style=\"display:none;\">\n",
              "\n",
              "  <svg xmlns=\"http://www.w3.org/2000/svg\" height=\"24px\"viewBox=\"0 0 24 24\"\n",
              "       width=\"24px\">\n",
              "    <path d=\"M7,19H8.4L18.45,9,17,7.55,7,17.6ZM5,21V16.75L18.45,3.32a2,2,0,0,1,2.83,0l1.4,1.43a1.91,1.91,0,0,1,.58,1.4,1.91,1.91,0,0,1-.58,1.4L9.25,21ZM18.45,9,17,7.55Zm-12,3A5.31,5.31,0,0,0,4.9,8.1,5.31,5.31,0,0,0,1,6.5,5.31,5.31,0,0,0,4.9,4.9,5.31,5.31,0,0,0,6.5,1,5.31,5.31,0,0,0,8.1,4.9,5.31,5.31,0,0,0,12,6.5,5.46,5.46,0,0,0,6.5,12Z\"/>\n",
              "  </svg>\n",
              "    </button>\n",
              "    <script>\n",
              "      (() => {\n",
              "      const buttonEl =\n",
              "        document.querySelector('#id_d4f36f9e-c690-41b7-8d37-7de04a328b4a button.colab-df-generate');\n",
              "      buttonEl.style.display =\n",
              "        google.colab.kernel.accessAllowed ? 'block' : 'none';\n",
              "\n",
              "      buttonEl.onclick = () => {\n",
              "        google.colab.notebook.generateWithVariable('X_train_cdf');\n",
              "      }\n",
              "      })();\n",
              "    </script>\n",
              "  </div>\n",
              "\n",
              "    </div>\n",
              "  </div>\n"
            ],
            "application/vnd.google.colaboratory.intrinsic+json": {
              "type": "dataframe",
              "variable_name": "X_train_cdf"
            }
          },
          "metadata": {},
          "execution_count": 42
        }
      ]
    },
    {
      "cell_type": "code",
      "source": [
        "def apply_pca(train_df, test_df, columns_to_reduce, variance_threshold=0.90):\n",
        "    \"\"\"\n",
        "    Applies PCA on specified columns of train and test datasets.\n",
        "\n",
        "    Args:\n",
        "        train_df (pd.DataFrame): Training dataframe.\n",
        "        test_df (pd.DataFrame): Testing dataframe.\n",
        "        columns_to_reduce (list): Columns to apply PCA on.\n",
        "        variance_threshold (float): Desired variance explained (e.g., 0.95 for 95%).\n",
        "\n",
        "    Returns:\n",
        "        merged_train (pd.DataFrame): Train df with PCA components.\n",
        "        merged_test (pd.DataFrame): Test df with PCA components.\n",
        "        pca (PCA object): Trained PCA model.\n",
        "    \"\"\"\n",
        "    # Initialize PCA with no component limitation\n",
        "    pca = PCA()\n",
        "\n",
        "    # Fit PCA on training data\n",
        "    pca.fit(train_df[columns_to_reduce])\n",
        "\n",
        "    # Get cumulative explained variance\n",
        "    cumulative_variance = pca.explained_variance_ratio_.cumsum()\n",
        "\n",
        "    # Find the number of components needed to reach the variance threshold\n",
        "    n_components = (cumulative_variance >= variance_threshold).argmax() + 1\n",
        "\n",
        "    # Initialize PCA with the determined number of components\n",
        "    pca = PCA(n_components=n_components)\n",
        "\n",
        "    # Fit PCA again on the training data\n",
        "    train_pca = pca.fit_transform(train_df[columns_to_reduce])\n",
        "    test_pca = pca.transform(test_df[columns_to_reduce])  # ONLY transform test data\n",
        "\n",
        "    # Create column names for PCA components\n",
        "    pca_columns = [f'pca_component_{i+1}' for i in range(n_components)]\n",
        "\n",
        "    # Build new DataFrames from PCA output\n",
        "    train_pca_df = pd.DataFrame(train_pca, columns=pca_columns, index=train_df.index)\n",
        "    test_pca_df = pd.DataFrame(test_pca, columns=pca_columns, index=test_df.index)\n",
        "\n",
        "    # Drop original high-dimensional columns\n",
        "    train_reduced = train_df.drop(columns=columns_to_reduce, errors='ignore')\n",
        "    test_reduced = test_df.drop(columns=columns_to_reduce, errors='ignore')\n",
        "\n",
        "    # Concatenate PCA features back into the remaining data\n",
        "    merged_train = pd.concat([train_reduced, train_pca_df], axis=1)\n",
        "    merged_test = pd.concat([test_reduced, test_pca_df], axis=1)\n",
        "\n",
        "    # Print explained variance\n",
        "    print(f\"Total variance explained by {n_components} PCA components: {pca.explained_variance_ratio_.sum() * 100:.2f}%\")\n",
        "\n",
        "    return merged_train, merged_test, pca\n",
        "\n",
        "# Apply PCA with automatic component selection based on variance threshold\n",
        "merged_train, merged_test, pca = apply_pca(X_train, X_test, X_train_c)\n"
      ],
      "metadata": {
        "id": "oBgMayJzWe0U",
        "colab": {
          "base_uri": "https://localhost:8080/"
        },
        "outputId": "741311e5-c078-4896-a783-26e36cad6ca6"
      },
      "execution_count": 43,
      "outputs": [
        {
          "output_type": "stream",
          "name": "stdout",
          "text": [
            "Total variance explained by 65 PCA components: 90.01%\n"
          ]
        }
      ]
    },
    {
      "cell_type": "code",
      "source": [
        "metadata_cols = X.columns[:27]"
      ],
      "metadata": {
        "id": "uKrvG32oc_kq"
      },
      "execution_count": 44,
      "outputs": []
    },
    {
      "cell_type": "markdown",
      "source": [],
      "metadata": {
        "id": "WiuZjmexVGHT"
      }
    },
    {
      "cell_type": "code",
      "source": [
        "categorical_cols =['Basic_Demos_Study_Site', 'PreInt_Demos_Fam_Child_Ethnicity', 'PreInt_Demos_Fam_Child_Race','MRI_Track_Scan_Location','Barratt_Barratt_P1_Edu','Barratt_Barratt_P1_Occ','Barratt_Barratt_P2_Edu','Barratt_Barratt_P2_Occ']\n",
        "numerical_cols = X_train.columns[1:19].tolist()\n",
        "X_train[categorical_cols] = X_train[categorical_cols].astype('category')\n",
        "X_train_num = X_train[numerical_cols]\n",
        "X_train_cat = X_train[categorical_cols]"
      ],
      "metadata": {
        "id": "HOOudG_udnb8"
      },
      "execution_count": 45,
      "outputs": []
    },
    {
      "cell_type": "code",
      "source": [
        "# Perform chi-square test for each feature with the target\n",
        "for col in categorical_cols:\n",
        "    contingency_table = pd.crosstab(X_train_cat[col], y_train['ADHD_Outcome'])  # replace 'target' with your target column name\n",
        "    chi2_stat, p_val, dof, expected = chi2_contingency(contingency_table)\n",
        "    print(f\"Chi-square for {col}: p-value = {p_val}\")\n",
        "    if p_val < 0.05:\n",
        "        print(f\"{col} is significantly related to the target-ADHD_OUTCOME.\")\n",
        "    else:\n",
        "        print(\"\")"
      ],
      "metadata": {
        "colab": {
          "base_uri": "https://localhost:8080/"
        },
        "id": "OOGn5LBaTZoK",
        "outputId": "c1876f3c-936a-4c68-cc75-339d8c3b15cb"
      },
      "execution_count": 46,
      "outputs": [
        {
          "output_type": "stream",
          "name": "stdout",
          "text": [
            "Chi-square for Basic_Demos_Study_Site: p-value = 0.11341878260101493\n",
            "\n",
            "Chi-square for PreInt_Demos_Fam_Child_Ethnicity: p-value = 0.6322601035872211\n",
            "\n",
            "Chi-square for PreInt_Demos_Fam_Child_Race: p-value = 0.050756170038907734\n",
            "\n",
            "Chi-square for MRI_Track_Scan_Location: p-value = 0.26875589866082017\n",
            "\n",
            "Chi-square for Barratt_Barratt_P1_Edu: p-value = 0.4426260014797767\n",
            "\n",
            "Chi-square for Barratt_Barratt_P1_Occ: p-value = 0.365798245489463\n",
            "\n",
            "Chi-square for Barratt_Barratt_P2_Edu: p-value = 0.5630961881659151\n",
            "\n",
            "Chi-square for Barratt_Barratt_P2_Occ: p-value = 0.2480174333675682\n",
            "\n"
          ]
        }
      ]
    },
    {
      "cell_type": "code",
      "source": [
        "# for col in categorical_cols:\n",
        "#     ct = pd.crosstab(X_train[col].astype(str).fillna(\"Missing\"), y_train['ADHD_Outcome'])\n",
        "#     if ct.shape[0] > 1 and ct.shape[1] > 1:  # Ensure valid contingency table\n",
        "#         cv = cramers_v(ct)\n",
        "#         print(f\"Cramér's V for {col}: {cv:.4f}\")\n",
        "#     else:\n",
        "#         print(f\"Skipped {col} due to insufficient unique values.\")\n"
      ],
      "metadata": {
        "id": "fK0mHickUw4r"
      },
      "execution_count": 24,
      "outputs": []
    },
    {
      "cell_type": "markdown",
      "source": [
        "Higher Cramér’s V (~ closer to 1) → Stronger association.\n",
        "Closer to 0 → Weak/no association."
      ],
      "metadata": {
        "id": "-GwJBTZuVKp9"
      }
    },
    {
      "cell_type": "code",
      "source": [
        "# Create a dictionary of columns and their p-values\n",
        "chi2_results = {\n",
        "    'Basic_Demos_Study_Site': 0.026764436349744687,\n",
        "    'PreInt_Demos_Fam_Child_Ethnicity': 0.1827550181167641,\n",
        "    'PreInt_Demos_Fam_Child_Race': 0.26089864216788716,\n",
        "    'MRI_Track_Scan_Location': 3.007189741756566e-05,\n",
        "    'Barratt_Barratt_P1_Edu': 0.587141220037803,\n",
        "    'Barratt_Barratt_P1_Occ': 0.7773760650925339,\n",
        "    'Barratt_Barratt_P2_Edu': 0.8789616160275046,\n",
        "    'Barratt_Barratt_P2_Occ': 0.9771874313232023\n",
        "}\n",
        "\n",
        "# Set the p-value threshold\n",
        "p_value_threshold = 0.05\n",
        "\n",
        "# Get a list of columns with significant p-values (less than the threshold)\n",
        "significant_cols = [col for col, p_val in chi2_results.items()     if p_val < p_value_threshold]\n",
        "\n",
        "# Print the significant columns\n",
        "print(\"Significant columns:\", significant_cols)"
      ],
      "metadata": {
        "colab": {
          "base_uri": "https://localhost:8080/"
        },
        "id": "pa132ruBWnp0",
        "outputId": "ca6dc5ba-b7a4-458f-bdbf-3eadeb790a59"
      },
      "execution_count": 47,
      "outputs": [
        {
          "output_type": "stream",
          "name": "stdout",
          "text": [
            "Significant columns: ['Basic_Demos_Study_Site', 'MRI_Track_Scan_Location']\n"
          ]
        }
      ]
    },
    {
      "cell_type": "code",
      "source": [
        "# Only include numeric columns (int or float), exclude object or category\n",
        "numerical_cols = merged_train.select_dtypes(include=['int64', 'float64']).columns.tolist()\n",
        "print(numerical_cols)  # Should not include any strings, IDs, or categorical labels\n"
      ],
      "metadata": {
        "colab": {
          "base_uri": "https://localhost:8080/"
        },
        "id": "dgZRMdqxix6H",
        "outputId": "5c7bacdd-7140-4d56-f295-8ea051ae1be4"
      },
      "execution_count": 48,
      "outputs": [
        {
          "output_type": "stream",
          "name": "stdout",
          "text": [
            "['EHQ_EHQ_Total', 'ColorVision_CV_Score', 'APQ_P_APQ_P_CP', 'APQ_P_APQ_P_ID', 'APQ_P_APQ_P_INV', 'APQ_P_APQ_P_OPD', 'APQ_P_APQ_P_PM', 'APQ_P_APQ_P_PP', 'SDQ_SDQ_Conduct_Problems', 'SDQ_SDQ_Difficulties_Total', 'SDQ_SDQ_Emotional_Problems', 'SDQ_SDQ_Externalizing', 'SDQ_SDQ_Generating_Impact', 'SDQ_SDQ_Hyperactivity', 'SDQ_SDQ_Internalizing', 'SDQ_SDQ_Peer_Problems', 'SDQ_SDQ_Prosocial', 'Basic_Demos_Enroll_Year', 'Basic_Demos_Study_Site', 'PreInt_Demos_Fam_Child_Race', 'MRI_Track_Scan_Location', 'Barratt_Barratt_P1_Edu', 'Barratt_Barratt_P1_Occ', 'Barratt_Barratt_P2_Edu', 'Barratt_Barratt_P2_Occ', 'pca_component_1', 'pca_component_2', 'pca_component_3', 'pca_component_4', 'pca_component_5', 'pca_component_6', 'pca_component_7', 'pca_component_8', 'pca_component_9', 'pca_component_10', 'pca_component_11', 'pca_component_12', 'pca_component_13', 'pca_component_14', 'pca_component_15', 'pca_component_16', 'pca_component_17', 'pca_component_18', 'pca_component_19', 'pca_component_20', 'pca_component_21', 'pca_component_22', 'pca_component_23', 'pca_component_24', 'pca_component_25', 'pca_component_26', 'pca_component_27', 'pca_component_28', 'pca_component_29', 'pca_component_30', 'pca_component_31', 'pca_component_32', 'pca_component_33', 'pca_component_34', 'pca_component_35', 'pca_component_36', 'pca_component_37', 'pca_component_38', 'pca_component_39', 'pca_component_40', 'pca_component_41', 'pca_component_42', 'pca_component_43', 'pca_component_44', 'pca_component_45', 'pca_component_46', 'pca_component_47', 'pca_component_48', 'pca_component_49', 'pca_component_50', 'pca_component_51', 'pca_component_52', 'pca_component_53', 'pca_component_54', 'pca_component_55', 'pca_component_56', 'pca_component_57', 'pca_component_58', 'pca_component_59', 'pca_component_60', 'pca_component_61', 'pca_component_62', 'pca_component_63', 'pca_component_64', 'pca_component_65']\n"
          ]
        }
      ]
    },
    {
      "cell_type": "code",
      "source": [
        "def drop_highly_correlated(df, threshold=0.8):\n",
        "    corr_matrix = df.corr().abs()\n",
        "    upper = corr_matrix.where(np.triu(np.ones(corr_matrix.shape), k=1).astype(bool))\n",
        "\n",
        "    # Find features with correlation greater than threshold\n",
        "    to_drop = [column for column in upper.columns if any(upper[column] > threshold)]\n",
        "\n",
        "    print(f\"Dropping {len(to_drop)} highly correlated columns: {to_drop}\")\n",
        "    return df.drop(columns=to_drop), to_drop\n",
        "\n",
        "# Apply this on numerical part of merged_train\n",
        "numerical_df = merged_train[numerical_cols]\n",
        "numerical_df_reduced, dropped_cols = drop_highly_correlated(numerical_df, threshold=0.8)\n",
        "\n",
        "# You can update merged_train to use the reduced numerical features\n",
        "merged_train_updated = merged_train.drop(columns=dropped_cols)\n",
        "merged_test_updated = merged_test.drop(columns=dropped_cols, errors='ignore')  # Safe for test too\n",
        "\n",
        "print(f\"Original number of numerical columns: {numerical_df.shape[1]}\")\n",
        "print(f\"Remaining number of numerical columns after dropping: {numerical_df_reduced.shape[1]}\")\n",
        "\n"
      ],
      "metadata": {
        "colab": {
          "base_uri": "https://localhost:8080/"
        },
        "id": "u8aG8UQDDnD8",
        "outputId": "dc3646e9-791a-4d3b-9c65-dcb782d4552b"
      },
      "execution_count": 49,
      "outputs": [
        {
          "output_type": "stream",
          "name": "stdout",
          "text": [
            "Dropping 4 highly correlated columns: ['SDQ_SDQ_Externalizing', 'SDQ_SDQ_Hyperactivity', 'SDQ_SDQ_Internalizing', 'SDQ_SDQ_Peer_Problems']\n",
            "Original number of numerical columns: 90\n",
            "Remaining number of numerical columns after dropping: 86\n"
          ]
        }
      ]
    },
    {
      "cell_type": "markdown",
      "source": [
        "#### DISPLAYING CORRELATION BETWEEN FEATURES USING HEATMAP\n"
      ],
      "metadata": {
        "id": "ex6HJiylucB2"
      }
    },
    {
      "cell_type": "code",
      "source": [
        "plt.figure(figsize=(10, 6))\n",
        "sns.heatmap(numerical_df.corr(), annot=True, cmap=\"coolwarm\", fmt=\".2f\", linewidths=0.5)\n",
        "plt.title(\"Feature Correlation Heatmap (All Features)\")\n",
        "plt.show()\n",
        "\n"
      ],
      "metadata": {
        "id": "PFEVWq0bTwyT"
      },
      "execution_count": null,
      "outputs": []
    },
    {
      "cell_type": "markdown",
      "source": [],
      "metadata": {
        "id": "tOnsWfELuRfu"
      }
    },
    {
      "cell_type": "markdown",
      "source": [
        "- The heatmap is a plotting technique to display the correlation values that we previously calculated .\n",
        "- The diagonals are red as each feature is highly correlated to itself .\n",
        "- The color of the map explains the correlation . Darker the color more correlated the columns are ."
      ],
      "metadata": {
        "id": "L-W1qZR3uZ_U"
      }
    },
    {
      "cell_type": "code",
      "source": [
        "from sklearn.feature_selection import VarianceThreshold\n",
        "\n",
        "# Assume numerical_df_reduced is your dataframe after correlation-based dropping\n",
        "selector = VarianceThreshold(threshold=0.01)  # You can tweak this threshold\n",
        "reduced_data = selector.fit_transform(numerical_df_reduced)\n",
        "\n",
        "# Get column names that were kept\n",
        "kept_columns = numerical_df_reduced.columns[selector.get_support()]\n",
        "reduced_df = pd.DataFrame(reduced_data, columns=kept_columns, index=numerical_df_reduced.index)\n",
        "\n",
        "print(f\"Remaining columns after variance thresholding: {reduced_df.shape[1]}\")\n"
      ],
      "metadata": {
        "colab": {
          "base_uri": "https://localhost:8080/"
        },
        "id": "kUAuyCBqFOoP",
        "outputId": "ae05d5a9-13fb-4ba6-a059-d5d3e17bc6a7"
      },
      "execution_count": 29,
      "outputs": [
        {
          "output_type": "stream",
          "name": "stdout",
          "text": [
            "Remaining columns after variance thresholding: 86\n"
          ]
        }
      ]
    },
    {
      "cell_type": "code",
      "source": [
        "\n",
        "# Step 1: Extract the categorical columns you want to keep from the original metadata\n",
        "categorical_cols_to_keep = ['Basic_Demos_Study_Site', 'PreInt_Demos_Fam_Child_Ethnicity']  # Example columns you want to keep\n",
        "\n",
        "# Extract categorical data from the original metadata\n",
        "categorical_train = X_train[categorical_cols_to_keep]\n",
        "categorical_test = X_test[categorical_cols_to_keep]\n",
        "\n",
        "# Combine the training and testing dataframes\n",
        "final_train = pd.concat([merged_train_updated, categorical_train], axis=1)\n",
        "final_test = pd.concat([merged_test_updated, categorical_test], axis=1)\n",
        "\n",
        "# Print the shape of each dataset to confirm they are correctly combined\n",
        "print(\"Training Data Shape: \", final_train.shape)\n",
        "print(\"Testing Data Shape: \", final_test.shape)\n",
        "\n",
        "# Merge target columns with the features\n",
        "train_full = pd.concat([merged_train_updated.reset_index(drop=True), y_train.reset_index(drop=True)], axis=1)\n",
        "test_full = pd.concat([merged_test_updated.reset_index(drop=True), y_test.reset_index(drop=True)], axis=1)\n",
        "\n",
        "train_full.to_csv('final_train.csv', index=False)\n",
        "test_full.to_csv('final_test.csv', index=False)\n",
        "\n"
      ],
      "metadata": {
        "colab": {
          "base_uri": "https://localhost:8080/"
        },
        "id": "Fnt8h6YQIBVM",
        "outputId": "c6a4f204-be10-4c28-b2ce-b49279c43ce2"
      },
      "execution_count": 30,
      "outputs": [
        {
          "output_type": "stream",
          "name": "stdout",
          "text": [
            "Training Data Shape:  (76, 90)\n",
            "Testing Data Shape:  (19, 90)\n"
          ]
        }
      ]
    }
  ]
}